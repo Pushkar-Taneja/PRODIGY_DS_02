{
 "cells": [
  {
   "cell_type": "markdown",
   "metadata": {},
   "source": [
    "# Importing the Usuals"
   ]
  },
  {
   "cell_type": "code",
   "execution_count": 3,
   "metadata": {
    "id": "Zhx0P7kLzja0"
   },
   "outputs": [],
   "source": [
    "import pandas as pd\n",
    "import numpy as np\n",
    "import seaborn as sns\n",
    "import matplotlib.pyplot as plt"
   ]
  },
  {
   "cell_type": "markdown",
   "metadata": {},
   "source": [
    "# Loading the Dataset"
   ]
  },
  {
   "cell_type": "code",
   "execution_count": 4,
   "metadata": {
    "colab": {
     "base_uri": "https://localhost:8080/",
     "height": 313
    },
    "id": "Weea9tJa2Hfl",
    "outputId": "ff2b9664-1167-45e0-d1d7-5dc9ce129b6c"
   },
   "outputs": [
    {
     "data": {
      "text/html": [
       "<div>\n",
       "<style scoped>\n",
       "    .dataframe tbody tr th:only-of-type {\n",
       "        vertical-align: middle;\n",
       "    }\n",
       "\n",
       "    .dataframe tbody tr th {\n",
       "        vertical-align: top;\n",
       "    }\n",
       "\n",
       "    .dataframe thead th {\n",
       "        text-align: right;\n",
       "    }\n",
       "</style>\n",
       "<table border=\"1\" class=\"dataframe\">\n",
       "  <thead>\n",
       "    <tr style=\"text-align: right;\">\n",
       "      <th></th>\n",
       "      <th>HomePlanet</th>\n",
       "      <th>CryoSleep</th>\n",
       "      <th>Cabin</th>\n",
       "      <th>Destination</th>\n",
       "      <th>Age</th>\n",
       "      <th>VIP</th>\n",
       "      <th>RoomService</th>\n",
       "      <th>FoodCourt</th>\n",
       "      <th>ShoppingMall</th>\n",
       "      <th>Spa</th>\n",
       "      <th>VRDeck</th>\n",
       "      <th>Transported</th>\n",
       "    </tr>\n",
       "  </thead>\n",
       "  <tbody>\n",
       "    <tr>\n",
       "      <th>0</th>\n",
       "      <td>Europa</td>\n",
       "      <td>False</td>\n",
       "      <td>B/0/P</td>\n",
       "      <td>TRAPPIST-1e</td>\n",
       "      <td>39.0</td>\n",
       "      <td>False</td>\n",
       "      <td>0.0</td>\n",
       "      <td>0.0</td>\n",
       "      <td>0.0</td>\n",
       "      <td>0.0</td>\n",
       "      <td>0.0</td>\n",
       "      <td>False</td>\n",
       "    </tr>\n",
       "    <tr>\n",
       "      <th>1</th>\n",
       "      <td>Earth</td>\n",
       "      <td>False</td>\n",
       "      <td>F/0/S</td>\n",
       "      <td>TRAPPIST-1e</td>\n",
       "      <td>24.0</td>\n",
       "      <td>False</td>\n",
       "      <td>109.0</td>\n",
       "      <td>9.0</td>\n",
       "      <td>25.0</td>\n",
       "      <td>549.0</td>\n",
       "      <td>44.0</td>\n",
       "      <td>True</td>\n",
       "    </tr>\n",
       "    <tr>\n",
       "      <th>2</th>\n",
       "      <td>Europa</td>\n",
       "      <td>False</td>\n",
       "      <td>A/0/S</td>\n",
       "      <td>TRAPPIST-1e</td>\n",
       "      <td>58.0</td>\n",
       "      <td>True</td>\n",
       "      <td>43.0</td>\n",
       "      <td>3576.0</td>\n",
       "      <td>0.0</td>\n",
       "      <td>6715.0</td>\n",
       "      <td>49.0</td>\n",
       "      <td>False</td>\n",
       "    </tr>\n",
       "    <tr>\n",
       "      <th>3</th>\n",
       "      <td>Europa</td>\n",
       "      <td>False</td>\n",
       "      <td>A/0/S</td>\n",
       "      <td>TRAPPIST-1e</td>\n",
       "      <td>33.0</td>\n",
       "      <td>False</td>\n",
       "      <td>0.0</td>\n",
       "      <td>1283.0</td>\n",
       "      <td>371.0</td>\n",
       "      <td>3329.0</td>\n",
       "      <td>193.0</td>\n",
       "      <td>False</td>\n",
       "    </tr>\n",
       "    <tr>\n",
       "      <th>4</th>\n",
       "      <td>Earth</td>\n",
       "      <td>False</td>\n",
       "      <td>F/1/S</td>\n",
       "      <td>TRAPPIST-1e</td>\n",
       "      <td>16.0</td>\n",
       "      <td>False</td>\n",
       "      <td>303.0</td>\n",
       "      <td>70.0</td>\n",
       "      <td>151.0</td>\n",
       "      <td>565.0</td>\n",
       "      <td>2.0</td>\n",
       "      <td>True</td>\n",
       "    </tr>\n",
       "  </tbody>\n",
       "</table>\n",
       "</div>"
      ],
      "text/plain": [
       "  HomePlanet CryoSleep  Cabin  Destination   Age    VIP  RoomService  \\\n",
       "0     Europa     False  B/0/P  TRAPPIST-1e  39.0  False          0.0   \n",
       "1      Earth     False  F/0/S  TRAPPIST-1e  24.0  False        109.0   \n",
       "2     Europa     False  A/0/S  TRAPPIST-1e  58.0   True         43.0   \n",
       "3     Europa     False  A/0/S  TRAPPIST-1e  33.0  False          0.0   \n",
       "4      Earth     False  F/1/S  TRAPPIST-1e  16.0  False        303.0   \n",
       "\n",
       "   FoodCourt  ShoppingMall     Spa  VRDeck  Transported  \n",
       "0        0.0           0.0     0.0     0.0        False  \n",
       "1        9.0          25.0   549.0    44.0         True  \n",
       "2     3576.0           0.0  6715.0    49.0        False  \n",
       "3     1283.0         371.0  3329.0   193.0        False  \n",
       "4       70.0         151.0   565.0     2.0         True  "
      ]
     },
     "execution_count": 4,
     "metadata": {},
     "output_type": "execute_result"
    }
   ],
   "source": [
    "df_train = pd.read_csv('train.csv')\n",
    "df_test = pd.read_csv('test.csv')\n",
    "df_test['Transported'] = False\n",
    "df_id = df_test['PassengerId']\n",
    "df = pd.concat([df_train, df_test], sort = False)\n",
    "df.drop(['Name', 'PassengerId'], axis = 1, inplace = True)\n",
    "df.head()"
   ]
  },
  {
   "cell_type": "markdown",
   "metadata": {},
   "source": [
    "# Exploring the Data\n"
   ]
  },
  {
   "cell_type": "code",
   "execution_count": 33,
   "metadata": {},
   "outputs": [
    {
     "data": {
      "text/html": [
       "<div>\n",
       "<style scoped>\n",
       "    .dataframe tbody tr th:only-of-type {\n",
       "        vertical-align: middle;\n",
       "    }\n",
       "\n",
       "    .dataframe tbody tr th {\n",
       "        vertical-align: top;\n",
       "    }\n",
       "\n",
       "    .dataframe thead th {\n",
       "        text-align: right;\n",
       "    }\n",
       "</style>\n",
       "<table border=\"1\" class=\"dataframe\">\n",
       "  <thead>\n",
       "    <tr style=\"text-align: right;\">\n",
       "      <th></th>\n",
       "      <th>HomePlanet</th>\n",
       "      <th>CryoSleep</th>\n",
       "      <th>Destination</th>\n",
       "      <th>Age</th>\n",
       "      <th>VIP</th>\n",
       "      <th>RoomService</th>\n",
       "      <th>FoodCourt</th>\n",
       "      <th>ShoppingMall</th>\n",
       "      <th>Spa</th>\n",
       "      <th>VRDeck</th>\n",
       "      <th>Transported</th>\n",
       "      <th>cabin_deck</th>\n",
       "      <th>cabin_num</th>\n",
       "      <th>cabin_side</th>\n",
       "    </tr>\n",
       "  </thead>\n",
       "  <tbody>\n",
       "    <tr>\n",
       "      <th>0</th>\n",
       "      <td>Europa</td>\n",
       "      <td>False</td>\n",
       "      <td>TRAPPIST-1e</td>\n",
       "      <td>39.0</td>\n",
       "      <td>False</td>\n",
       "      <td>0.0</td>\n",
       "      <td>0.0</td>\n",
       "      <td>0.0</td>\n",
       "      <td>0.0</td>\n",
       "      <td>0.0</td>\n",
       "      <td>False</td>\n",
       "      <td>5.0</td>\n",
       "      <td>0</td>\n",
       "      <td>P</td>\n",
       "    </tr>\n",
       "    <tr>\n",
       "      <th>1</th>\n",
       "      <td>Earth</td>\n",
       "      <td>False</td>\n",
       "      <td>TRAPPIST-1e</td>\n",
       "      <td>24.0</td>\n",
       "      <td>False</td>\n",
       "      <td>109.0</td>\n",
       "      <td>9.0</td>\n",
       "      <td>25.0</td>\n",
       "      <td>549.0</td>\n",
       "      <td>44.0</td>\n",
       "      <td>True</td>\n",
       "      <td>1.0</td>\n",
       "      <td>0</td>\n",
       "      <td>S</td>\n",
       "    </tr>\n",
       "    <tr>\n",
       "      <th>2</th>\n",
       "      <td>Europa</td>\n",
       "      <td>False</td>\n",
       "      <td>TRAPPIST-1e</td>\n",
       "      <td>58.0</td>\n",
       "      <td>True</td>\n",
       "      <td>43.0</td>\n",
       "      <td>3576.0</td>\n",
       "      <td>0.0</td>\n",
       "      <td>6715.0</td>\n",
       "      <td>49.0</td>\n",
       "      <td>False</td>\n",
       "      <td>6.0</td>\n",
       "      <td>0</td>\n",
       "      <td>S</td>\n",
       "    </tr>\n",
       "    <tr>\n",
       "      <th>3</th>\n",
       "      <td>Europa</td>\n",
       "      <td>False</td>\n",
       "      <td>TRAPPIST-1e</td>\n",
       "      <td>33.0</td>\n",
       "      <td>False</td>\n",
       "      <td>0.0</td>\n",
       "      <td>1283.0</td>\n",
       "      <td>371.0</td>\n",
       "      <td>3329.0</td>\n",
       "      <td>193.0</td>\n",
       "      <td>False</td>\n",
       "      <td>6.0</td>\n",
       "      <td>0</td>\n",
       "      <td>S</td>\n",
       "    </tr>\n",
       "    <tr>\n",
       "      <th>4</th>\n",
       "      <td>Earth</td>\n",
       "      <td>False</td>\n",
       "      <td>TRAPPIST-1e</td>\n",
       "      <td>16.0</td>\n",
       "      <td>False</td>\n",
       "      <td>303.0</td>\n",
       "      <td>70.0</td>\n",
       "      <td>151.0</td>\n",
       "      <td>565.0</td>\n",
       "      <td>2.0</td>\n",
       "      <td>True</td>\n",
       "      <td>1.0</td>\n",
       "      <td>1</td>\n",
       "      <td>S</td>\n",
       "    </tr>\n",
       "    <tr>\n",
       "      <th>...</th>\n",
       "      <td>...</td>\n",
       "      <td>...</td>\n",
       "      <td>...</td>\n",
       "      <td>...</td>\n",
       "      <td>...</td>\n",
       "      <td>...</td>\n",
       "      <td>...</td>\n",
       "      <td>...</td>\n",
       "      <td>...</td>\n",
       "      <td>...</td>\n",
       "      <td>...</td>\n",
       "      <td>...</td>\n",
       "      <td>...</td>\n",
       "      <td>...</td>\n",
       "    </tr>\n",
       "    <tr>\n",
       "      <th>4269</th>\n",
       "      <td>Earth</td>\n",
       "      <td>True</td>\n",
       "      <td>TRAPPIST-1e</td>\n",
       "      <td>43.0</td>\n",
       "      <td>False</td>\n",
       "      <td>0.0</td>\n",
       "      <td>0.0</td>\n",
       "      <td>0.0</td>\n",
       "      <td>0.0</td>\n",
       "      <td>0.0</td>\n",
       "      <td>False</td>\n",
       "      <td>0.0</td>\n",
       "      <td>1495</td>\n",
       "      <td>S</td>\n",
       "    </tr>\n",
       "    <tr>\n",
       "      <th>4270</th>\n",
       "      <td>Mars</td>\n",
       "      <td>False</td>\n",
       "      <td>TRAPPIST-1e</td>\n",
       "      <td>43.0</td>\n",
       "      <td>False</td>\n",
       "      <td>47.0</td>\n",
       "      <td>0.0</td>\n",
       "      <td>3851.0</td>\n",
       "      <td>0.0</td>\n",
       "      <td>0.0</td>\n",
       "      <td>False</td>\n",
       "      <td>3.0</td>\n",
       "      <td>278</td>\n",
       "      <td>S</td>\n",
       "    </tr>\n",
       "    <tr>\n",
       "      <th>4271</th>\n",
       "      <td>Earth</td>\n",
       "      <td>False</td>\n",
       "      <td>TRAPPIST-1e</td>\n",
       "      <td>40.0</td>\n",
       "      <td>False</td>\n",
       "      <td>0.0</td>\n",
       "      <td>865.0</td>\n",
       "      <td>0.0</td>\n",
       "      <td>3.0</td>\n",
       "      <td>0.0</td>\n",
       "      <td>False</td>\n",
       "      <td>1.0</td>\n",
       "      <td>1796</td>\n",
       "      <td>S</td>\n",
       "    </tr>\n",
       "    <tr>\n",
       "      <th>4272</th>\n",
       "      <td>Earth</td>\n",
       "      <td>True</td>\n",
       "      <td>TRAPPIST-1e</td>\n",
       "      <td>34.0</td>\n",
       "      <td>False</td>\n",
       "      <td>0.0</td>\n",
       "      <td>0.0</td>\n",
       "      <td>0.0</td>\n",
       "      <td>0.0</td>\n",
       "      <td>0.0</td>\n",
       "      <td>False</td>\n",
       "      <td>0.0</td>\n",
       "      <td>1496</td>\n",
       "      <td>S</td>\n",
       "    </tr>\n",
       "    <tr>\n",
       "      <th>4276</th>\n",
       "      <td>Earth</td>\n",
       "      <td>True</td>\n",
       "      <td>PSO J318.5-22</td>\n",
       "      <td>43.0</td>\n",
       "      <td>False</td>\n",
       "      <td>0.0</td>\n",
       "      <td>0.0</td>\n",
       "      <td>0.0</td>\n",
       "      <td>0.0</td>\n",
       "      <td>0.0</td>\n",
       "      <td>False</td>\n",
       "      <td>0.0</td>\n",
       "      <td>1498</td>\n",
       "      <td>S</td>\n",
       "    </tr>\n",
       "  </tbody>\n",
       "</table>\n",
       "<p>10119 rows × 14 columns</p>\n",
       "</div>"
      ],
      "text/plain": [
       "     HomePlanet CryoSleep    Destination   Age    VIP  RoomService  FoodCourt  \\\n",
       "0        Europa     False    TRAPPIST-1e  39.0  False          0.0        0.0   \n",
       "1         Earth     False    TRAPPIST-1e  24.0  False        109.0        9.0   \n",
       "2        Europa     False    TRAPPIST-1e  58.0   True         43.0     3576.0   \n",
       "3        Europa     False    TRAPPIST-1e  33.0  False          0.0     1283.0   \n",
       "4         Earth     False    TRAPPIST-1e  16.0  False        303.0       70.0   \n",
       "...         ...       ...            ...   ...    ...          ...        ...   \n",
       "4269      Earth      True    TRAPPIST-1e  43.0  False          0.0        0.0   \n",
       "4270       Mars     False    TRAPPIST-1e  43.0  False         47.0        0.0   \n",
       "4271      Earth     False    TRAPPIST-1e  40.0  False          0.0      865.0   \n",
       "4272      Earth      True    TRAPPIST-1e  34.0  False          0.0        0.0   \n",
       "4276      Earth      True  PSO J318.5-22  43.0  False          0.0        0.0   \n",
       "\n",
       "      ShoppingMall     Spa  VRDeck  Transported  cabin_deck cabin_num  \\\n",
       "0              0.0     0.0     0.0        False         5.0         0   \n",
       "1             25.0   549.0    44.0         True         1.0         0   \n",
       "2              0.0  6715.0    49.0        False         6.0         0   \n",
       "3            371.0  3329.0   193.0        False         6.0         0   \n",
       "4            151.0   565.0     2.0         True         1.0         1   \n",
       "...            ...     ...     ...          ...         ...       ...   \n",
       "4269           0.0     0.0     0.0        False         0.0      1495   \n",
       "4270        3851.0     0.0     0.0        False         3.0       278   \n",
       "4271           0.0     3.0     0.0        False         1.0      1796   \n",
       "4272           0.0     0.0     0.0        False         0.0      1496   \n",
       "4276           0.0     0.0     0.0        False         0.0      1498   \n",
       "\n",
       "     cabin_side  \n",
       "0             P  \n",
       "1             S  \n",
       "2             S  \n",
       "3             S  \n",
       "4             S  \n",
       "...         ...  \n",
       "4269          S  \n",
       "4270          S  \n",
       "4271          S  \n",
       "4272          S  \n",
       "4276          S  \n",
       "\n",
       "[10119 rows x 14 columns]"
      ]
     },
     "execution_count": 33,
     "metadata": {},
     "output_type": "execute_result"
    }
   ],
   "source": [
    "df"
   ]
  },
  {
   "cell_type": "code",
   "execution_count": 5,
   "metadata": {
    "colab": {
     "base_uri": "https://localhost:8080/",
     "height": 458
    },
    "id": "c9yJIit331kQ",
    "outputId": "a6ac01e2-26d1-41e1-ff37-ccec9880a33a"
   },
   "outputs": [
    {
     "data": {
      "text/plain": [
       "0       0013_01\n",
       "1       0018_01\n",
       "2       0019_01\n",
       "3       0021_01\n",
       "4       0023_01\n",
       "         ...   \n",
       "4272    9266_02\n",
       "4273    9269_01\n",
       "4274    9271_01\n",
       "4275    9273_01\n",
       "4276    9277_01\n",
       "Name: PassengerId, Length: 4277, dtype: object"
      ]
     },
     "execution_count": 5,
     "metadata": {},
     "output_type": "execute_result"
    }
   ],
   "source": [
    "df_id"
   ]
  },
  {
   "cell_type": "code",
   "execution_count": 6,
   "metadata": {},
   "outputs": [
    {
     "data": {
      "text/html": [
       "<div>\n",
       "<style scoped>\n",
       "    .dataframe tbody tr th:only-of-type {\n",
       "        vertical-align: middle;\n",
       "    }\n",
       "\n",
       "    .dataframe tbody tr th {\n",
       "        vertical-align: top;\n",
       "    }\n",
       "\n",
       "    .dataframe thead th {\n",
       "        text-align: right;\n",
       "    }\n",
       "</style>\n",
       "<table border=\"1\" class=\"dataframe\">\n",
       "  <thead>\n",
       "    <tr style=\"text-align: right;\">\n",
       "      <th></th>\n",
       "      <th>HomePlanet</th>\n",
       "      <th>CryoSleep</th>\n",
       "      <th>Cabin</th>\n",
       "      <th>Destination</th>\n",
       "      <th>Age</th>\n",
       "      <th>VIP</th>\n",
       "      <th>RoomService</th>\n",
       "      <th>FoodCourt</th>\n",
       "      <th>ShoppingMall</th>\n",
       "      <th>Spa</th>\n",
       "      <th>VRDeck</th>\n",
       "      <th>Transported</th>\n",
       "    </tr>\n",
       "  </thead>\n",
       "  <tbody>\n",
       "    <tr>\n",
       "      <th>0</th>\n",
       "      <td>Earth</td>\n",
       "      <td>True</td>\n",
       "      <td>G/3/S</td>\n",
       "      <td>TRAPPIST-1e</td>\n",
       "      <td>27.0</td>\n",
       "      <td>False</td>\n",
       "      <td>0.0</td>\n",
       "      <td>0.0</td>\n",
       "      <td>0.0</td>\n",
       "      <td>0.0</td>\n",
       "      <td>0.0</td>\n",
       "      <td>False</td>\n",
       "    </tr>\n",
       "    <tr>\n",
       "      <th>1</th>\n",
       "      <td>Earth</td>\n",
       "      <td>False</td>\n",
       "      <td>F/4/S</td>\n",
       "      <td>TRAPPIST-1e</td>\n",
       "      <td>19.0</td>\n",
       "      <td>False</td>\n",
       "      <td>0.0</td>\n",
       "      <td>9.0</td>\n",
       "      <td>0.0</td>\n",
       "      <td>2823.0</td>\n",
       "      <td>0.0</td>\n",
       "      <td>False</td>\n",
       "    </tr>\n",
       "    <tr>\n",
       "      <th>2</th>\n",
       "      <td>Europa</td>\n",
       "      <td>True</td>\n",
       "      <td>C/0/S</td>\n",
       "      <td>55 Cancri e</td>\n",
       "      <td>31.0</td>\n",
       "      <td>False</td>\n",
       "      <td>0.0</td>\n",
       "      <td>0.0</td>\n",
       "      <td>0.0</td>\n",
       "      <td>0.0</td>\n",
       "      <td>0.0</td>\n",
       "      <td>False</td>\n",
       "    </tr>\n",
       "    <tr>\n",
       "      <th>3</th>\n",
       "      <td>Europa</td>\n",
       "      <td>False</td>\n",
       "      <td>C/1/S</td>\n",
       "      <td>TRAPPIST-1e</td>\n",
       "      <td>38.0</td>\n",
       "      <td>False</td>\n",
       "      <td>0.0</td>\n",
       "      <td>6652.0</td>\n",
       "      <td>0.0</td>\n",
       "      <td>181.0</td>\n",
       "      <td>585.0</td>\n",
       "      <td>False</td>\n",
       "    </tr>\n",
       "    <tr>\n",
       "      <th>4</th>\n",
       "      <td>Earth</td>\n",
       "      <td>False</td>\n",
       "      <td>F/5/S</td>\n",
       "      <td>TRAPPIST-1e</td>\n",
       "      <td>20.0</td>\n",
       "      <td>False</td>\n",
       "      <td>10.0</td>\n",
       "      <td>0.0</td>\n",
       "      <td>635.0</td>\n",
       "      <td>0.0</td>\n",
       "      <td>0.0</td>\n",
       "      <td>False</td>\n",
       "    </tr>\n",
       "  </tbody>\n",
       "</table>\n",
       "</div>"
      ],
      "text/plain": [
       "  HomePlanet CryoSleep  Cabin  Destination   Age    VIP  RoomService  \\\n",
       "0      Earth      True  G/3/S  TRAPPIST-1e  27.0  False          0.0   \n",
       "1      Earth     False  F/4/S  TRAPPIST-1e  19.0  False          0.0   \n",
       "2     Europa      True  C/0/S  55 Cancri e  31.0  False          0.0   \n",
       "3     Europa     False  C/1/S  TRAPPIST-1e  38.0  False          0.0   \n",
       "4      Earth     False  F/5/S  TRAPPIST-1e  20.0  False         10.0   \n",
       "\n",
       "   FoodCourt  ShoppingMall     Spa  VRDeck  Transported  \n",
       "0        0.0           0.0     0.0     0.0        False  \n",
       "1        9.0           0.0  2823.0     0.0        False  \n",
       "2        0.0           0.0     0.0     0.0        False  \n",
       "3     6652.0           0.0   181.0   585.0        False  \n",
       "4        0.0         635.0     0.0     0.0        False  "
      ]
     },
     "execution_count": 6,
     "metadata": {},
     "output_type": "execute_result"
    }
   ],
   "source": [
    "dataset_df_test = df_test.drop(['PassengerId', 'Name'], axis=1)\n",
    "dataset_df_test.head(5)"
   ]
  },
  {
   "cell_type": "code",
   "execution_count": 7,
   "metadata": {
    "colab": {
     "base_uri": "https://localhost:8080/"
    },
    "id": "yAbTyUDf2SuO",
    "outputId": "69c9994f-6303-4407-dab9-00fd25cee93d"
   },
   "outputs": [
    {
     "data": {
      "text/plain": [
       "True"
      ]
     },
     "execution_count": 7,
     "metadata": {},
     "output_type": "execute_result"
    }
   ],
   "source": [
    "df.shape[0] == df_train.shape[0] + df_test.shape[0]\n"
   ]
  },
  {
   "cell_type": "code",
   "execution_count": 8,
   "metadata": {
    "id": "u88_zA0L2WT_"
   },
   "outputs": [],
   "source": [
    "df['cabin_deck'] = df['Cabin'].str.extract(r'([A-Z])')  # captures the deck (first character)\n",
    "df['cabin_num'] = df['Cabin'].str.extract(r'(\\d+)')      # captures the numerical part\n",
    "df['cabin_side'] = df['Cabin'].str.extract(r'([PS])$')   # captures the side (last character)\n",
    "df = df.drop(columns = ['Cabin'])\n"
   ]
  },
  {
   "cell_type": "markdown",
   "metadata": {},
   "source": [
    "# Data Cleaning \n",
    "Calculate the percentage of missing values in each column for both datasets"
   ]
  },
  {
   "cell_type": "code",
   "execution_count": 36,
   "metadata": {},
   "outputs": [
    {
     "data": {
      "text/plain": [
       "(PassengerId     0.000000\n",
       " HomePlanet      2.312205\n",
       " CryoSleep       2.496261\n",
       " Cabin           2.289198\n",
       " Destination     2.093639\n",
       " Age             2.059128\n",
       " VIP             2.335212\n",
       " RoomService     2.082135\n",
       " FoodCourt       2.105142\n",
       " ShoppingMall    2.392730\n",
       " Spa             2.105142\n",
       " VRDeck          2.162660\n",
       " Name            2.300702\n",
       " Transported     0.000000\n",
       " dtype: float64,\n",
       " PassengerId     0.000000\n",
       " HomePlanet      2.034136\n",
       " CryoSleep       2.174421\n",
       " Cabin           2.338087\n",
       " Destination     2.151040\n",
       " Age             2.127660\n",
       " VIP             2.174421\n",
       " RoomService     1.917232\n",
       " FoodCourt       2.478373\n",
       " ShoppingMall    2.291326\n",
       " Spa             2.361468\n",
       " VRDeck          1.870470\n",
       " Name            2.197802\n",
       " Transported     0.000000\n",
       " dtype: float64)"
      ]
     },
     "execution_count": 36,
     "metadata": {},
     "output_type": "execute_result"
    }
   ],
   "source": [
    "train_missing_values = df_train.isnull().mean() * 100\n",
    "test_missing_values = df_test.isnull().mean() * 100\n",
    "\n",
    "train_missing_values, test_missing_values\n"
   ]
  },
  {
   "cell_type": "markdown",
   "metadata": {},
   "source": [
    "Fill missing values for categorical columns using mode"
   ]
  },
  {
   "cell_type": "code",
   "execution_count": 37,
   "metadata": {},
   "outputs": [
    {
     "name": "stderr",
     "output_type": "stream",
     "text": [
      "C:\\Users\\Pushkar Taneja\\AppData\\Local\\Temp\\ipykernel_26948\\755484615.py:1: FutureWarning: A value is trying to be set on a copy of a DataFrame or Series through chained assignment using an inplace method.\n",
      "The behavior will change in pandas 3.0. This inplace method will never work because the intermediate object on which we are setting values always behaves as a copy.\n",
      "\n",
      "For example, when doing 'df[col].method(value, inplace=True)', try using 'df.method({col: value}, inplace=True)' or df[col] = df[col].method(value) instead, to perform the operation inplace on the original object.\n",
      "\n",
      "\n",
      "  df_train['HomePlanet'].fillna(df_train['HomePlanet'].mode()[0], inplace=True)\n",
      "C:\\Users\\Pushkar Taneja\\AppData\\Local\\Temp\\ipykernel_26948\\755484615.py:2: FutureWarning: A value is trying to be set on a copy of a DataFrame or Series through chained assignment using an inplace method.\n",
      "The behavior will change in pandas 3.0. This inplace method will never work because the intermediate object on which we are setting values always behaves as a copy.\n",
      "\n",
      "For example, when doing 'df[col].method(value, inplace=True)', try using 'df.method({col: value}, inplace=True)' or df[col] = df[col].method(value) instead, to perform the operation inplace on the original object.\n",
      "\n",
      "\n",
      "  df_test['HomePlanet'].fillna(df_test['HomePlanet'].mode()[0], inplace=True)\n",
      "C:\\Users\\Pushkar Taneja\\AppData\\Local\\Temp\\ipykernel_26948\\755484615.py:4: FutureWarning: A value is trying to be set on a copy of a DataFrame or Series through chained assignment using an inplace method.\n",
      "The behavior will change in pandas 3.0. This inplace method will never work because the intermediate object on which we are setting values always behaves as a copy.\n",
      "\n",
      "For example, when doing 'df[col].method(value, inplace=True)', try using 'df.method({col: value}, inplace=True)' or df[col] = df[col].method(value) instead, to perform the operation inplace on the original object.\n",
      "\n",
      "\n",
      "  df_train['CryoSleep'].fillna(df_train['CryoSleep'].mode()[0], inplace=True)\n",
      "C:\\Users\\Pushkar Taneja\\AppData\\Local\\Temp\\ipykernel_26948\\755484615.py:4: FutureWarning: Downcasting object dtype arrays on .fillna, .ffill, .bfill is deprecated and will change in a future version. Call result.infer_objects(copy=False) instead. To opt-in to the future behavior, set `pd.set_option('future.no_silent_downcasting', True)`\n",
      "  df_train['CryoSleep'].fillna(df_train['CryoSleep'].mode()[0], inplace=True)\n",
      "C:\\Users\\Pushkar Taneja\\AppData\\Local\\Temp\\ipykernel_26948\\755484615.py:5: FutureWarning: A value is trying to be set on a copy of a DataFrame or Series through chained assignment using an inplace method.\n",
      "The behavior will change in pandas 3.0. This inplace method will never work because the intermediate object on which we are setting values always behaves as a copy.\n",
      "\n",
      "For example, when doing 'df[col].method(value, inplace=True)', try using 'df.method({col: value}, inplace=True)' or df[col] = df[col].method(value) instead, to perform the operation inplace on the original object.\n",
      "\n",
      "\n",
      "  df_test['CryoSleep'].fillna(df_test['CryoSleep'].mode()[0], inplace=True)\n",
      "C:\\Users\\Pushkar Taneja\\AppData\\Local\\Temp\\ipykernel_26948\\755484615.py:5: FutureWarning: Downcasting object dtype arrays on .fillna, .ffill, .bfill is deprecated and will change in a future version. Call result.infer_objects(copy=False) instead. To opt-in to the future behavior, set `pd.set_option('future.no_silent_downcasting', True)`\n",
      "  df_test['CryoSleep'].fillna(df_test['CryoSleep'].mode()[0], inplace=True)\n",
      "C:\\Users\\Pushkar Taneja\\AppData\\Local\\Temp\\ipykernel_26948\\755484615.py:7: FutureWarning: A value is trying to be set on a copy of a DataFrame or Series through chained assignment using an inplace method.\n",
      "The behavior will change in pandas 3.0. This inplace method will never work because the intermediate object on which we are setting values always behaves as a copy.\n",
      "\n",
      "For example, when doing 'df[col].method(value, inplace=True)', try using 'df.method({col: value}, inplace=True)' or df[col] = df[col].method(value) instead, to perform the operation inplace on the original object.\n",
      "\n",
      "\n",
      "  df_train['VIP'].fillna(df_train['VIP'].mode()[0], inplace=True)\n",
      "C:\\Users\\Pushkar Taneja\\AppData\\Local\\Temp\\ipykernel_26948\\755484615.py:7: FutureWarning: Downcasting object dtype arrays on .fillna, .ffill, .bfill is deprecated and will change in a future version. Call result.infer_objects(copy=False) instead. To opt-in to the future behavior, set `pd.set_option('future.no_silent_downcasting', True)`\n",
      "  df_train['VIP'].fillna(df_train['VIP'].mode()[0], inplace=True)\n",
      "C:\\Users\\Pushkar Taneja\\AppData\\Local\\Temp\\ipykernel_26948\\755484615.py:8: FutureWarning: A value is trying to be set on a copy of a DataFrame or Series through chained assignment using an inplace method.\n",
      "The behavior will change in pandas 3.0. This inplace method will never work because the intermediate object on which we are setting values always behaves as a copy.\n",
      "\n",
      "For example, when doing 'df[col].method(value, inplace=True)', try using 'df.method({col: value}, inplace=True)' or df[col] = df[col].method(value) instead, to perform the operation inplace on the original object.\n",
      "\n",
      "\n",
      "  df_test['VIP'].fillna(df_test['VIP'].mode()[0], inplace=True)\n",
      "C:\\Users\\Pushkar Taneja\\AppData\\Local\\Temp\\ipykernel_26948\\755484615.py:8: FutureWarning: Downcasting object dtype arrays on .fillna, .ffill, .bfill is deprecated and will change in a future version. Call result.infer_objects(copy=False) instead. To opt-in to the future behavior, set `pd.set_option('future.no_silent_downcasting', True)`\n",
      "  df_test['VIP'].fillna(df_test['VIP'].mode()[0], inplace=True)\n",
      "C:\\Users\\Pushkar Taneja\\AppData\\Local\\Temp\\ipykernel_26948\\755484615.py:10: FutureWarning: A value is trying to be set on a copy of a DataFrame or Series through chained assignment using an inplace method.\n",
      "The behavior will change in pandas 3.0. This inplace method will never work because the intermediate object on which we are setting values always behaves as a copy.\n",
      "\n",
      "For example, when doing 'df[col].method(value, inplace=True)', try using 'df.method({col: value}, inplace=True)' or df[col] = df[col].method(value) instead, to perform the operation inplace on the original object.\n",
      "\n",
      "\n",
      "  df_train['Destination'].fillna(df_train['Destination'].mode()[0], inplace=True)\n",
      "C:\\Users\\Pushkar Taneja\\AppData\\Local\\Temp\\ipykernel_26948\\755484615.py:11: FutureWarning: A value is trying to be set on a copy of a DataFrame or Series through chained assignment using an inplace method.\n",
      "The behavior will change in pandas 3.0. This inplace method will never work because the intermediate object on which we are setting values always behaves as a copy.\n",
      "\n",
      "For example, when doing 'df[col].method(value, inplace=True)', try using 'df.method({col: value}, inplace=True)' or df[col] = df[col].method(value) instead, to perform the operation inplace on the original object.\n",
      "\n",
      "\n",
      "  df_test['Destination'].fillna(df_test['Destination'].mode()[0], inplace=True)\n",
      "C:\\Users\\Pushkar Taneja\\AppData\\Local\\Temp\\ipykernel_26948\\755484615.py:16: FutureWarning: A value is trying to be set on a copy of a DataFrame or Series through chained assignment using an inplace method.\n",
      "The behavior will change in pandas 3.0. This inplace method will never work because the intermediate object on which we are setting values always behaves as a copy.\n",
      "\n",
      "For example, when doing 'df[col].method(value, inplace=True)', try using 'df.method({col: value}, inplace=True)' or df[col] = df[col].method(value) instead, to perform the operation inplace on the original object.\n",
      "\n",
      "\n",
      "  df_train[col].fillna(df_train[col].median(), inplace=True)\n",
      "C:\\Users\\Pushkar Taneja\\AppData\\Local\\Temp\\ipykernel_26948\\755484615.py:17: FutureWarning: A value is trying to be set on a copy of a DataFrame or Series through chained assignment using an inplace method.\n",
      "The behavior will change in pandas 3.0. This inplace method will never work because the intermediate object on which we are setting values always behaves as a copy.\n",
      "\n",
      "For example, when doing 'df[col].method(value, inplace=True)', try using 'df.method({col: value}, inplace=True)' or df[col] = df[col].method(value) instead, to perform the operation inplace on the original object.\n",
      "\n",
      "\n",
      "  df_test[col].fillna(df_test[col].median(), inplace=True)\n",
      "C:\\Users\\Pushkar Taneja\\AppData\\Local\\Temp\\ipykernel_26948\\755484615.py:16: FutureWarning: A value is trying to be set on a copy of a DataFrame or Series through chained assignment using an inplace method.\n",
      "The behavior will change in pandas 3.0. This inplace method will never work because the intermediate object on which we are setting values always behaves as a copy.\n",
      "\n",
      "For example, when doing 'df[col].method(value, inplace=True)', try using 'df.method({col: value}, inplace=True)' or df[col] = df[col].method(value) instead, to perform the operation inplace on the original object.\n",
      "\n",
      "\n",
      "  df_train[col].fillna(df_train[col].median(), inplace=True)\n",
      "C:\\Users\\Pushkar Taneja\\AppData\\Local\\Temp\\ipykernel_26948\\755484615.py:17: FutureWarning: A value is trying to be set on a copy of a DataFrame or Series through chained assignment using an inplace method.\n",
      "The behavior will change in pandas 3.0. This inplace method will never work because the intermediate object on which we are setting values always behaves as a copy.\n",
      "\n",
      "For example, when doing 'df[col].method(value, inplace=True)', try using 'df.method({col: value}, inplace=True)' or df[col] = df[col].method(value) instead, to perform the operation inplace on the original object.\n",
      "\n",
      "\n",
      "  df_test[col].fillna(df_test[col].median(), inplace=True)\n",
      "C:\\Users\\Pushkar Taneja\\AppData\\Local\\Temp\\ipykernel_26948\\755484615.py:16: FutureWarning: A value is trying to be set on a copy of a DataFrame or Series through chained assignment using an inplace method.\n",
      "The behavior will change in pandas 3.0. This inplace method will never work because the intermediate object on which we are setting values always behaves as a copy.\n",
      "\n",
      "For example, when doing 'df[col].method(value, inplace=True)', try using 'df.method({col: value}, inplace=True)' or df[col] = df[col].method(value) instead, to perform the operation inplace on the original object.\n",
      "\n",
      "\n",
      "  df_train[col].fillna(df_train[col].median(), inplace=True)\n",
      "C:\\Users\\Pushkar Taneja\\AppData\\Local\\Temp\\ipykernel_26948\\755484615.py:17: FutureWarning: A value is trying to be set on a copy of a DataFrame or Series through chained assignment using an inplace method.\n",
      "The behavior will change in pandas 3.0. This inplace method will never work because the intermediate object on which we are setting values always behaves as a copy.\n",
      "\n",
      "For example, when doing 'df[col].method(value, inplace=True)', try using 'df.method({col: value}, inplace=True)' or df[col] = df[col].method(value) instead, to perform the operation inplace on the original object.\n",
      "\n",
      "\n",
      "  df_test[col].fillna(df_test[col].median(), inplace=True)\n",
      "C:\\Users\\Pushkar Taneja\\AppData\\Local\\Temp\\ipykernel_26948\\755484615.py:16: FutureWarning: A value is trying to be set on a copy of a DataFrame or Series through chained assignment using an inplace method.\n",
      "The behavior will change in pandas 3.0. This inplace method will never work because the intermediate object on which we are setting values always behaves as a copy.\n",
      "\n",
      "For example, when doing 'df[col].method(value, inplace=True)', try using 'df.method({col: value}, inplace=True)' or df[col] = df[col].method(value) instead, to perform the operation inplace on the original object.\n",
      "\n",
      "\n",
      "  df_train[col].fillna(df_train[col].median(), inplace=True)\n",
      "C:\\Users\\Pushkar Taneja\\AppData\\Local\\Temp\\ipykernel_26948\\755484615.py:17: FutureWarning: A value is trying to be set on a copy of a DataFrame or Series through chained assignment using an inplace method.\n",
      "The behavior will change in pandas 3.0. This inplace method will never work because the intermediate object on which we are setting values always behaves as a copy.\n",
      "\n",
      "For example, when doing 'df[col].method(value, inplace=True)', try using 'df.method({col: value}, inplace=True)' or df[col] = df[col].method(value) instead, to perform the operation inplace on the original object.\n",
      "\n",
      "\n",
      "  df_test[col].fillna(df_test[col].median(), inplace=True)\n",
      "C:\\Users\\Pushkar Taneja\\AppData\\Local\\Temp\\ipykernel_26948\\755484615.py:16: FutureWarning: A value is trying to be set on a copy of a DataFrame or Series through chained assignment using an inplace method.\n",
      "The behavior will change in pandas 3.0. This inplace method will never work because the intermediate object on which we are setting values always behaves as a copy.\n",
      "\n",
      "For example, when doing 'df[col].method(value, inplace=True)', try using 'df.method({col: value}, inplace=True)' or df[col] = df[col].method(value) instead, to perform the operation inplace on the original object.\n",
      "\n",
      "\n",
      "  df_train[col].fillna(df_train[col].median(), inplace=True)\n",
      "C:\\Users\\Pushkar Taneja\\AppData\\Local\\Temp\\ipykernel_26948\\755484615.py:17: FutureWarning: A value is trying to be set on a copy of a DataFrame or Series through chained assignment using an inplace method.\n",
      "The behavior will change in pandas 3.0. This inplace method will never work because the intermediate object on which we are setting values always behaves as a copy.\n",
      "\n",
      "For example, when doing 'df[col].method(value, inplace=True)', try using 'df.method({col: value}, inplace=True)' or df[col] = df[col].method(value) instead, to perform the operation inplace on the original object.\n",
      "\n",
      "\n",
      "  df_test[col].fillna(df_test[col].median(), inplace=True)\n",
      "C:\\Users\\Pushkar Taneja\\AppData\\Local\\Temp\\ipykernel_26948\\755484615.py:16: FutureWarning: A value is trying to be set on a copy of a DataFrame or Series through chained assignment using an inplace method.\n",
      "The behavior will change in pandas 3.0. This inplace method will never work because the intermediate object on which we are setting values always behaves as a copy.\n",
      "\n",
      "For example, when doing 'df[col].method(value, inplace=True)', try using 'df.method({col: value}, inplace=True)' or df[col] = df[col].method(value) instead, to perform the operation inplace on the original object.\n",
      "\n",
      "\n",
      "  df_train[col].fillna(df_train[col].median(), inplace=True)\n",
      "C:\\Users\\Pushkar Taneja\\AppData\\Local\\Temp\\ipykernel_26948\\755484615.py:17: FutureWarning: A value is trying to be set on a copy of a DataFrame or Series through chained assignment using an inplace method.\n",
      "The behavior will change in pandas 3.0. This inplace method will never work because the intermediate object on which we are setting values always behaves as a copy.\n",
      "\n",
      "For example, when doing 'df[col].method(value, inplace=True)', try using 'df.method({col: value}, inplace=True)' or df[col] = df[col].method(value) instead, to perform the operation inplace on the original object.\n",
      "\n",
      "\n",
      "  df_test[col].fillna(df_test[col].median(), inplace=True)\n"
     ]
    },
    {
     "data": {
      "text/plain": [
       "(PassengerId       0\n",
       " HomePlanet        0\n",
       " CryoSleep         0\n",
       " Cabin           199\n",
       " Destination       0\n",
       " Age               0\n",
       " VIP               0\n",
       " RoomService       0\n",
       " FoodCourt         0\n",
       " ShoppingMall      0\n",
       " Spa               0\n",
       " VRDeck            0\n",
       " Name            200\n",
       " Transported       0\n",
       " dtype: int64,\n",
       " PassengerId       0\n",
       " HomePlanet        0\n",
       " CryoSleep         0\n",
       " Cabin           100\n",
       " Destination       0\n",
       " Age               0\n",
       " VIP               0\n",
       " RoomService       0\n",
       " FoodCourt         0\n",
       " ShoppingMall      0\n",
       " Spa               0\n",
       " VRDeck            0\n",
       " Name             94\n",
       " Transported       0\n",
       " dtype: int64)"
      ]
     },
     "execution_count": 37,
     "metadata": {},
     "output_type": "execute_result"
    }
   ],
   "source": [
    "df_train['HomePlanet'].fillna(df_train['HomePlanet'].mode()[0], inplace=True)\n",
    "df_test['HomePlanet'].fillna(df_test['HomePlanet'].mode()[0], inplace=True)\n",
    "\n",
    "df_train['CryoSleep'].fillna(df_train['CryoSleep'].mode()[0], inplace=True)\n",
    "df_test['CryoSleep'].fillna(df_test['CryoSleep'].mode()[0], inplace=True)\n",
    "\n",
    "df_train['VIP'].fillna(df_train['VIP'].mode()[0], inplace=True)\n",
    "df_test['VIP'].fillna(df_test['VIP'].mode()[0], inplace=True)\n",
    "\n",
    "df_train['Destination'].fillna(df_train['Destination'].mode()[0], inplace=True)\n",
    "df_test['Destination'].fillna(df_test['Destination'].mode()[0], inplace=True)\n",
    "\n",
    "# Fill missing values in numerical columns with median\n",
    "numerical_cols = ['Age', 'RoomService', 'FoodCourt', 'ShoppingMall', 'Spa', 'VRDeck']\n",
    "for col in numerical_cols:\n",
    "    df_train[col].fillna(df_train[col].median(), inplace=True)\n",
    "    df_test[col].fillna(df_test[col].median(), inplace=True)\n",
    "\n",
    "# Check if any missing values remain\n",
    "train_missing_after = df_train.isnull().sum()\n",
    "test_missing_after = df_test.isnull().sum()\n",
    "\n",
    "train_missing_after, test_missing_after\n"
   ]
  },
  {
   "cell_type": "markdown",
   "metadata": {
    "id": "raG5wiJnP3aG"
   },
   "source": [
    "# Here are four visualizations based on the passenger data:\n",
    "\n",
    "Passenger Distribution by HomePlanet: Most passengers are from Earth, with fewer from Europa and Mars.\n",
    "\n",
    "CryoSleep Status: There's a fairly even split between passengers in CryoSleep and those who are not.\n",
    "\n",
    "Distribution of Passengers: Passenger ages are spread out, with some concentration in their 20s and 30s.\n",
    "\n",
    "Total Spending on Amenities: The highest spending is in the FoodCourt, followed by the Spa, with much less spending in other areas like RoomService and ShoppingMall.\n",
    "\n",
    "These insights can help identify trends in passenger behavior and preferences."
   ]
  },
  {
   "cell_type": "code",
   "execution_count": 9,
   "metadata": {
    "colab": {
     "background_save": true
    },
    "id": "B8pYwWTh4Pcv",
    "outputId": "62d531fc-7912-4313-e8c3-a3a791350c54"
   },
   "outputs": [
    {
     "name": "stderr",
     "output_type": "stream",
     "text": [
      "C:\\Users\\Pushkar Taneja\\AppData\\Local\\Temp\\ipykernel_26948\\2307276578.py:11: UserWarning: The palette list has more values (8) than needed (3), which may not be intended.\n",
      "  sns.countplot(x='HomePlanet', data=dataset_df_test, hue='HomePlanet', palette=palette_homeplanet)\n",
      "C:\\Users\\Pushkar Taneja\\AppData\\Local\\Temp\\ipykernel_26948\\2307276578.py:27: FutureWarning: \n",
      "\n",
      "Passing `palette` without assigning `hue` is deprecated and will be removed in v0.14.0. Assign the `x` variable to `hue` and set `legend=False` for the same effect.\n",
      "\n",
      "  sns.barplot(x=spending.index, y=spending.values, palette=bar_colors)\n"
     ]
    },
    {
     "data": {
      "image/png": "[encoded data removed]",
      "text/plain": [
       "<Figure size 1400x1000 with 4 Axes>"
      ]
     },
     "metadata": {},
     "output_type": "display_data"
    }
   ],
   "source": [
    "plt.figure(figsize=(14, 10))\n",
    "\n",
    "# Custom colors\n",
    "palette_homeplanet = sns.color_palette(\"Set2\")  # Different colors for HomePlanet\n",
    "palette_cryosleep = ['#FF6347', '#4682B4']  # Custom colors for CryoSleep (True/False)\n",
    "hist_color = '#8A2BE2'  # Purple color for Age distribution\n",
    "bar_colors = ['#FFD700', '#87CEFA', '#FF69B4', '#32CD32', '#FF4500']  # Custom colors for spending\n",
    "\n",
    "# Plot 1: Distribution of passengers by HomePlanet\n",
    "plt.subplot(2, 2, 1)\n",
    "sns.countplot(x='HomePlanet', data=dataset_df_test, hue='HomePlanet', palette=palette_homeplanet)\n",
    "plt.title('Passenger Distribution by HomePlanet')\n",
    "\n",
    "# Plot 2: CryoSleep status\n",
    "plt.subplot(2, 2, 2)\n",
    "sns.countplot(x='CryoSleep', data=dataset_df_test, hue='CryoSleep',palette=palette_cryosleep)\n",
    "plt.title('Passenger CryoSleep Status')\n",
    "\n",
    "# Plot 3: Passenger Age Distribution\n",
    "plt.subplot(2, 2, 3)\n",
    "sns.histplot(dataset_df_test['Age'].dropna(), kde=True, color=hist_color)\n",
    "plt.title('Age Distribution of Passengers')\n",
    "\n",
    "# Plot 4: Spending on Various Amenities\n",
    "plt.subplot(2, 2, 4)\n",
    "spending = dataset_df_test[['RoomService', 'FoodCourt', 'ShoppingMall', 'Spa', 'VRDeck']].sum()\n",
    "sns.barplot(x=spending.index, y=spending.values, palette=bar_colors)\n",
    "plt.title('Total Spending on Amenities')\n",
    "\n",
    "plt.tight_layout()\n",
    "plt.show()"
   ]
  },
  {
   "cell_type": "markdown",
   "metadata": {
    "id": "s-m4J_5NQESq"
   },
   "source": [
    "#  Age vs Spending Analysis"
   ]
  },
  {
   "cell_type": "code",
   "execution_count": 10,
   "metadata": {
    "id": "HQCgSjpjQD8x"
   },
   "outputs": [
    {
     "name": "stderr",
     "output_type": "stream",
     "text": [
      "C:\\Users\\Pushkar Taneja\\AppData\\Local\\Temp\\ipykernel_26948\\2028071946.py:14: FutureWarning: \n",
      "\n",
      "Passing `palette` without assigning `hue` is deprecated and will be removed in v0.14.0. Assign the `x` variable to `hue` and set `legend=False` for the same effect.\n",
      "\n",
      "  sns.barplot(x='AgeGroup', y='RoomService', data=dataset_df_test, palette=\"coolwarm\")\n",
      "C:\\Users\\Pushkar Taneja\\AppData\\Local\\Temp\\ipykernel_26948\\2028071946.py:19: UserWarning: The palette list has more values (8) than needed (2), which may not be intended.\n",
      "  sns.barplot(x='AgeGroup', y='FoodCourt', data=dataset_df_test,hue='CryoSleep', palette=palette_homeplanet, legend=False)\n",
      "C:\\Users\\Pushkar Taneja\\AppData\\Local\\Temp\\ipykernel_26948\\2028071946.py:29: UserWarning: The palette list has more values (5) than needed (2), which may not be intended.\n",
      "  sns.barplot(x='AgeGroup', y='Spa', data=dataset_df_test,hue='CryoSleep', palette=bar_colors, legend=False)\n"
     ]
    },
    {
     "data": {
      "image/png": "[encoded data removed]",
      "text/plain": [
       "<Figure size 1400x800 with 5 Axes>"
      ]
     },
     "metadata": {},
     "output_type": "display_data"
    }
   ],
   "source": [
    "# Plotting Age vs Spending on individual amenities\n",
    "\n",
    "plt.figure(figsize=(14, 8))\n",
    "\n",
    "# Define the age bins and labels\n",
    "bins = [0, 10, 20, 30, 40, 50, 60, 100]\n",
    "labels = ['0-10', '11-20', '21-30', '31-40', '41-50', '51-60', '60+']\n",
    "\n",
    "# Add a new column 'AgeGroup' by binning 'Age'\n",
    "dataset_df_test['AgeGroup'] = pd.cut(dataset_df_test['Age'], bins=bins, labels=labels)\n",
    "\n",
    "# Plotting RoomService spending by AgeGroup using a boxplot\n",
    "plt.subplot(2, 3, 1)\n",
    "sns.barplot(x='AgeGroup', y='RoomService', data=dataset_df_test, palette=\"coolwarm\")\n",
    "plt.title('RoomService Spending by Age Group')\n",
    "\n",
    "# Plot 2: Age vs FoodCourt Spending\n",
    "plt.subplot(2, 3, 2)\n",
    "sns.barplot(x='AgeGroup', y='FoodCourt', data=dataset_df_test,hue='CryoSleep', palette=palette_homeplanet, legend=False)\n",
    "plt.title('Age vs FoodCourt Spending')\n",
    "\n",
    "# Plot 3: Age vs ShoppingMall Spending\n",
    "plt.subplot(2, 3, 3)\n",
    "sns.barplot(x='AgeGroup', y='ShoppingMall', data=dataset_df_test,hue='CryoSleep', palette='Spectral', legend=False)\n",
    "plt.title('Age vs ShoppingMall Spending')\n",
    "\n",
    "# Plot 4: Age vs Spa Spending\n",
    "plt.subplot(2, 3, 4)\n",
    "sns.barplot(x='AgeGroup', y='Spa', data=dataset_df_test,hue='CryoSleep', palette=bar_colors, legend=False)\n",
    "plt.title('Age vs Spa Spending')\n",
    "\n",
    "# Plot 5: Age vs VRDeck Spending\n",
    "plt.subplot(2, 3, 5)\n",
    "sns.barplot(x='AgeGroup', y='VRDeck', data=dataset_df_test,hue='CryoSleep', palette='coolwarm', legend=False)\n",
    "plt.title('Age vs VRDeck Spending')\n",
    "\n",
    "plt.tight_layout()\n",
    "plt.show()"
   ]
  },
  {
   "cell_type": "code",
   "execution_count": 11,
   "metadata": {
    "id": "hiIT9T8p2oYZ"
   },
   "outputs": [],
   "source": [
    "from sklearn.compose import ColumnTransformer\n",
    "from sklearn.preprocessing import OrdinalEncoder , OneHotEncoder\n",
    "from sklearn.preprocessing import StandardScaler\n",
    "from sklearn.pipeline import Pipeline,make_pipeline\n",
    "from sklearn.impute import SimpleImputer\n"
   ]
  },
  {
   "cell_type": "code",
   "execution_count": 12,
   "metadata": {
    "colab": {
     "base_uri": "https://localhost:8080/",
     "height": 228
    },
    "id": "DcTAO5Su4DHI",
    "outputId": "f29356f9-93d0-40c2-9dc0-f224e696b4ce"
   },
   "outputs": [],
   "source": [
    "ohe = OneHotEncoder(drop='first')\n",
    "ord = OrdinalEncoder(categories=[['P','S']])\n",
    "scale = StandardScaler()\n",
    "df['cabin_deck'] = df['cabin_deck'].map({'G' : 0, 'F' : 1, 'E' : 2, 'D' : 3, 'C' : 4, 'B' : 5, 'A' : 6, 'U' : 7, 'T' : 8})\n",
    "si = SimpleImputer()"
   ]
  },
  {
   "cell_type": "code",
   "execution_count": 13,
   "metadata": {
    "collapsed": true,
    "id": "_L-usgtCsEX5"
   },
   "outputs": [
    {
     "data": {
      "text/plain": [
       "HomePlanet      2.220509\n",
       "CryoSleep       2.390131\n",
       "Destination     2.112567\n",
       "Age             2.081727\n",
       "VIP             2.282190\n",
       "RoomService     2.027756\n",
       "FoodCourt       2.228219\n",
       "ShoppingMall    2.359291\n",
       "Spa             2.189668\n",
       "VRDeck          2.066307\n",
       "Transported     0.000000\n",
       "cabin_deck      2.305320\n",
       "cabin_num       2.305320\n",
       "cabin_side      2.305320\n",
       "dtype: float64"
      ]
     },
     "execution_count": 13,
     "metadata": {},
     "output_type": "execute_result"
    }
   ],
   "source": [
    "df.isnull().mean()*100"
   ]
  },
  {
   "cell_type": "code",
   "execution_count": 14,
   "metadata": {
    "id": "ByAePo3XsZdJ"
   },
   "outputs": [],
   "source": [
    "df = df.dropna(axis=0)"
   ]
  },
  {
   "cell_type": "code",
   "execution_count": 15,
   "metadata": {
    "collapsed": true,
    "id": "mU0wHplUs03i"
   },
   "outputs": [
    {
     "data": {
      "text/plain": [
       "HomePlanet      0.0\n",
       "CryoSleep       0.0\n",
       "Destination     0.0\n",
       "Age             0.0\n",
       "VIP             0.0\n",
       "RoomService     0.0\n",
       "FoodCourt       0.0\n",
       "ShoppingMall    0.0\n",
       "Spa             0.0\n",
       "VRDeck          0.0\n",
       "Transported     0.0\n",
       "cabin_deck      0.0\n",
       "cabin_num       0.0\n",
       "cabin_side      0.0\n",
       "dtype: float64"
      ]
     },
     "execution_count": 15,
     "metadata": {},
     "output_type": "execute_result"
    }
   ],
   "source": [
    "df.isnull().mean()*100"
   ]
  },
  {
   "cell_type": "code",
   "execution_count": 16,
   "metadata": {
    "id": "SfREbezys1tp"
   },
   "outputs": [],
   "source": [
    "clf = ColumnTransformer(transformers=[\n",
    "    ('ohe', ohe, ['HomePlanet','Destination','CryoSleep','VIP']),\n",
    "    ('ord', ord, ['cabin_side']),\n",
    "    ('std', scale , ['RoomService', 'FoodCourt',\n",
    "       'ShoppingMall', 'Spa', 'VRDeck']),\n",
    "],remainder='passthrough')"
   ]
  },
  {
   "cell_type": "code",
   "execution_count": 17,
   "metadata": {
    "id": "7MQwkiRKxfOu"
   },
   "outputs": [],
   "source": [
    "df1 = clf.fit_transform(df)"
   ]
  },
  {
   "cell_type": "code",
   "execution_count": 18,
   "metadata": {
    "id": "HsxxzJGXtg9Y"
   },
   "outputs": [
    {
     "data": {
      "text/plain": [
       "array(['HomePlanet_Europa', 'HomePlanet_Mars',\n",
       "       'Destination_PSO J318.5-22', 'Destination_TRAPPIST-1e',\n",
       "       'CryoSleep_True', 'VIP_True'], dtype=object)"
      ]
     },
     "execution_count": 18,
     "metadata": {},
     "output_type": "execute_result"
    }
   ],
   "source": [
    "clf.named_transformers_['ohe'].get_feature_names_out(['HomePlanet', 'Destination', 'CryoSleep','VIP'])"
   ]
  },
  {
   "cell_type": "code",
   "execution_count": 19,
   "metadata": {
    "id": "tfC54EZzxZZ-"
   },
   "outputs": [
    {
     "data": {
      "text/plain": [
       "array(['cabin_side'], dtype=object)"
      ]
     },
     "execution_count": 19,
     "metadata": {},
     "output_type": "execute_result"
    }
   ],
   "source": [
    "clf.named_transformers_['ord'].get_feature_names_out(['cabin_side'])"
   ]
  },
  {
   "cell_type": "code",
   "execution_count": 20,
   "metadata": {
    "id": "gf56C7ZKw9Gq"
   },
   "outputs": [],
   "source": [
    "df1 = pd.DataFrame(df1,columns= ['HomePlanet_Europa', 'HomePlanet_Mars',\n",
    "       'Destination_PSO J318.5-22', 'Destination_TRAPPIST-1e',\n",
    "       'CryoSleep_True','VIP_True', 'cabin_side_S','Age','RoomService', 'FoodCourt',\n",
    "       'ShoppingMall', 'Spa', 'VRDeck','Transported','cabin_deck', 'cabin_num'])"
   ]
  },
  {
   "cell_type": "code",
   "execution_count": 21,
   "metadata": {
    "collapsed": true,
    "id": "pKh0L2EPyP06"
   },
   "outputs": [
    {
     "data": {
      "text/html": [
       "<div>\n",
       "<style scoped>\n",
       "    .dataframe tbody tr th:only-of-type {\n",
       "        vertical-align: middle;\n",
       "    }\n",
       "\n",
       "    .dataframe tbody tr th {\n",
       "        vertical-align: top;\n",
       "    }\n",
       "\n",
       "    .dataframe thead th {\n",
       "        text-align: right;\n",
       "    }\n",
       "</style>\n",
       "<table border=\"1\" class=\"dataframe\">\n",
       "  <thead>\n",
       "    <tr style=\"text-align: right;\">\n",
       "      <th></th>\n",
       "      <th>HomePlanet_Europa</th>\n",
       "      <th>HomePlanet_Mars</th>\n",
       "      <th>Destination_PSO J318.5-22</th>\n",
       "      <th>Destination_TRAPPIST-1e</th>\n",
       "      <th>CryoSleep_True</th>\n",
       "      <th>VIP_True</th>\n",
       "      <th>cabin_side_S</th>\n",
       "      <th>Age</th>\n",
       "      <th>RoomService</th>\n",
       "      <th>FoodCourt</th>\n",
       "      <th>ShoppingMall</th>\n",
       "      <th>Spa</th>\n",
       "      <th>VRDeck</th>\n",
       "      <th>Transported</th>\n",
       "      <th>cabin_deck</th>\n",
       "      <th>cabin_num</th>\n",
       "    </tr>\n",
       "  </thead>\n",
       "  <tbody>\n",
       "    <tr>\n",
       "      <th>0</th>\n",
       "      <td>1.0</td>\n",
       "      <td>0.0</td>\n",
       "      <td>0.0</td>\n",
       "      <td>1.0</td>\n",
       "      <td>0.0</td>\n",
       "      <td>0.0</td>\n",
       "      <td>0.0</td>\n",
       "      <td>-0.349392</td>\n",
       "      <td>-0.288375</td>\n",
       "      <td>-0.290101</td>\n",
       "      <td>-0.275058</td>\n",
       "      <td>-0.265118</td>\n",
       "      <td>39.0</td>\n",
       "      <td>False</td>\n",
       "      <td>5.0</td>\n",
       "      <td>0</td>\n",
       "    </tr>\n",
       "    <tr>\n",
       "      <th>1</th>\n",
       "      <td>0.0</td>\n",
       "      <td>0.0</td>\n",
       "      <td>0.0</td>\n",
       "      <td>1.0</td>\n",
       "      <td>0.0</td>\n",
       "      <td>0.0</td>\n",
       "      <td>1.0</td>\n",
       "      <td>-0.178286</td>\n",
       "      <td>-0.282798</td>\n",
       "      <td>-0.249515</td>\n",
       "      <td>0.213688</td>\n",
       "      <td>-0.226464</td>\n",
       "      <td>24.0</td>\n",
       "      <td>True</td>\n",
       "      <td>1.0</td>\n",
       "      <td>0</td>\n",
       "    </tr>\n",
       "    <tr>\n",
       "      <th>2</th>\n",
       "      <td>1.0</td>\n",
       "      <td>0.0</td>\n",
       "      <td>0.0</td>\n",
       "      <td>1.0</td>\n",
       "      <td>0.0</td>\n",
       "      <td>1.0</td>\n",
       "      <td>1.0</td>\n",
       "      <td>-0.281891</td>\n",
       "      <td>1.927495</td>\n",
       "      <td>-0.290101</td>\n",
       "      <td>5.702956</td>\n",
       "      <td>-0.222072</td>\n",
       "      <td>58.0</td>\n",
       "      <td>False</td>\n",
       "      <td>6.0</td>\n",
       "      <td>0</td>\n",
       "    </tr>\n",
       "    <tr>\n",
       "      <th>3</th>\n",
       "      <td>1.0</td>\n",
       "      <td>0.0</td>\n",
       "      <td>0.0</td>\n",
       "      <td>1.0</td>\n",
       "      <td>0.0</td>\n",
       "      <td>0.0</td>\n",
       "      <td>1.0</td>\n",
       "      <td>-0.349392</td>\n",
       "      <td>0.506637</td>\n",
       "      <td>0.312186</td>\n",
       "      <td>2.688577</td>\n",
       "      <td>-0.095569</td>\n",
       "      <td>33.0</td>\n",
       "      <td>False</td>\n",
       "      <td>6.0</td>\n",
       "      <td>0</td>\n",
       "    </tr>\n",
       "    <tr>\n",
       "      <th>4</th>\n",
       "      <td>0.0</td>\n",
       "      <td>0.0</td>\n",
       "      <td>0.0</td>\n",
       "      <td>1.0</td>\n",
       "      <td>0.0</td>\n",
       "      <td>0.0</td>\n",
       "      <td>1.0</td>\n",
       "      <td>0.126249</td>\n",
       "      <td>-0.244999</td>\n",
       "      <td>-0.044965</td>\n",
       "      <td>0.227932</td>\n",
       "      <td>-0.263361</td>\n",
       "      <td>16.0</td>\n",
       "      <td>True</td>\n",
       "      <td>1.0</td>\n",
       "      <td>1</td>\n",
       "    </tr>\n",
       "    <tr>\n",
       "      <th>...</th>\n",
       "      <td>...</td>\n",
       "      <td>...</td>\n",
       "      <td>...</td>\n",
       "      <td>...</td>\n",
       "      <td>...</td>\n",
       "      <td>...</td>\n",
       "      <td>...</td>\n",
       "      <td>...</td>\n",
       "      <td>...</td>\n",
       "      <td>...</td>\n",
       "      <td>...</td>\n",
       "      <td>...</td>\n",
       "      <td>...</td>\n",
       "      <td>...</td>\n",
       "      <td>...</td>\n",
       "      <td>...</td>\n",
       "    </tr>\n",
       "    <tr>\n",
       "      <th>10114</th>\n",
       "      <td>0.0</td>\n",
       "      <td>0.0</td>\n",
       "      <td>0.0</td>\n",
       "      <td>1.0</td>\n",
       "      <td>1.0</td>\n",
       "      <td>0.0</td>\n",
       "      <td>1.0</td>\n",
       "      <td>-0.349392</td>\n",
       "      <td>-0.288375</td>\n",
       "      <td>-0.290101</td>\n",
       "      <td>-0.275058</td>\n",
       "      <td>-0.265118</td>\n",
       "      <td>43.0</td>\n",
       "      <td>False</td>\n",
       "      <td>0.0</td>\n",
       "      <td>1495</td>\n",
       "    </tr>\n",
       "    <tr>\n",
       "      <th>10115</th>\n",
       "      <td>0.0</td>\n",
       "      <td>1.0</td>\n",
       "      <td>0.0</td>\n",
       "      <td>1.0</td>\n",
       "      <td>0.0</td>\n",
       "      <td>0.0</td>\n",
       "      <td>1.0</td>\n",
       "      <td>-0.275612</td>\n",
       "      <td>-0.288375</td>\n",
       "      <td>5.961665</td>\n",
       "      <td>-0.275058</td>\n",
       "      <td>-0.265118</td>\n",
       "      <td>43.0</td>\n",
       "      <td>False</td>\n",
       "      <td>3.0</td>\n",
       "      <td>278</td>\n",
       "    </tr>\n",
       "    <tr>\n",
       "      <th>10116</th>\n",
       "      <td>0.0</td>\n",
       "      <td>0.0</td>\n",
       "      <td>0.0</td>\n",
       "      <td>1.0</td>\n",
       "      <td>0.0</td>\n",
       "      <td>0.0</td>\n",
       "      <td>1.0</td>\n",
       "      <td>-0.349392</td>\n",
       "      <td>0.247623</td>\n",
       "      <td>-0.290101</td>\n",
       "      <td>-0.272387</td>\n",
       "      <td>-0.265118</td>\n",
       "      <td>40.0</td>\n",
       "      <td>False</td>\n",
       "      <td>1.0</td>\n",
       "      <td>1796</td>\n",
       "    </tr>\n",
       "    <tr>\n",
       "      <th>10117</th>\n",
       "      <td>0.0</td>\n",
       "      <td>0.0</td>\n",
       "      <td>0.0</td>\n",
       "      <td>1.0</td>\n",
       "      <td>1.0</td>\n",
       "      <td>0.0</td>\n",
       "      <td>1.0</td>\n",
       "      <td>-0.349392</td>\n",
       "      <td>-0.288375</td>\n",
       "      <td>-0.290101</td>\n",
       "      <td>-0.275058</td>\n",
       "      <td>-0.265118</td>\n",
       "      <td>34.0</td>\n",
       "      <td>False</td>\n",
       "      <td>0.0</td>\n",
       "      <td>1496</td>\n",
       "    </tr>\n",
       "    <tr>\n",
       "      <th>10118</th>\n",
       "      <td>0.0</td>\n",
       "      <td>0.0</td>\n",
       "      <td>1.0</td>\n",
       "      <td>0.0</td>\n",
       "      <td>1.0</td>\n",
       "      <td>0.0</td>\n",
       "      <td>1.0</td>\n",
       "      <td>-0.349392</td>\n",
       "      <td>-0.288375</td>\n",
       "      <td>-0.290101</td>\n",
       "      <td>-0.275058</td>\n",
       "      <td>-0.265118</td>\n",
       "      <td>43.0</td>\n",
       "      <td>False</td>\n",
       "      <td>0.0</td>\n",
       "      <td>1498</td>\n",
       "    </tr>\n",
       "  </tbody>\n",
       "</table>\n",
       "<p>10119 rows × 16 columns</p>\n",
       "</div>"
      ],
      "text/plain": [
       "      HomePlanet_Europa HomePlanet_Mars Destination_PSO J318.5-22  \\\n",
       "0                   1.0             0.0                       0.0   \n",
       "1                   0.0             0.0                       0.0   \n",
       "2                   1.0             0.0                       0.0   \n",
       "3                   1.0             0.0                       0.0   \n",
       "4                   0.0             0.0                       0.0   \n",
       "...                 ...             ...                       ...   \n",
       "10114               0.0             0.0                       0.0   \n",
       "10115               0.0             1.0                       0.0   \n",
       "10116               0.0             0.0                       0.0   \n",
       "10117               0.0             0.0                       0.0   \n",
       "10118               0.0             0.0                       1.0   \n",
       "\n",
       "      Destination_TRAPPIST-1e CryoSleep_True VIP_True cabin_side_S       Age  \\\n",
       "0                         1.0            0.0      0.0          0.0 -0.349392   \n",
       "1                         1.0            0.0      0.0          1.0 -0.178286   \n",
       "2                         1.0            0.0      1.0          1.0 -0.281891   \n",
       "3                         1.0            0.0      0.0          1.0 -0.349392   \n",
       "4                         1.0            0.0      0.0          1.0  0.126249   \n",
       "...                       ...            ...      ...          ...       ...   \n",
       "10114                     1.0            1.0      0.0          1.0 -0.349392   \n",
       "10115                     1.0            0.0      0.0          1.0 -0.275612   \n",
       "10116                     1.0            0.0      0.0          1.0 -0.349392   \n",
       "10117                     1.0            1.0      0.0          1.0 -0.349392   \n",
       "10118                     0.0            1.0      0.0          1.0 -0.349392   \n",
       "\n",
       "      RoomService FoodCourt ShoppingMall       Spa VRDeck Transported  \\\n",
       "0       -0.288375 -0.290101    -0.275058 -0.265118   39.0       False   \n",
       "1       -0.282798 -0.249515     0.213688 -0.226464   24.0        True   \n",
       "2        1.927495 -0.290101     5.702956 -0.222072   58.0       False   \n",
       "3        0.506637  0.312186     2.688577 -0.095569   33.0       False   \n",
       "4       -0.244999 -0.044965     0.227932 -0.263361   16.0        True   \n",
       "...           ...       ...          ...       ...    ...         ...   \n",
       "10114   -0.288375 -0.290101    -0.275058 -0.265118   43.0       False   \n",
       "10115   -0.288375  5.961665    -0.275058 -0.265118   43.0       False   \n",
       "10116    0.247623 -0.290101    -0.272387 -0.265118   40.0       False   \n",
       "10117   -0.288375 -0.290101    -0.275058 -0.265118   34.0       False   \n",
       "10118   -0.288375 -0.290101    -0.275058 -0.265118   43.0       False   \n",
       "\n",
       "      cabin_deck cabin_num  \n",
       "0            5.0         0  \n",
       "1            1.0         0  \n",
       "2            6.0         0  \n",
       "3            6.0         0  \n",
       "4            1.0         1  \n",
       "...          ...       ...  \n",
       "10114        0.0      1495  \n",
       "10115        3.0       278  \n",
       "10116        1.0      1796  \n",
       "10117        0.0      1496  \n",
       "10118        0.0      1498  \n",
       "\n",
       "[10119 rows x 16 columns]"
      ]
     },
     "execution_count": 21,
     "metadata": {},
     "output_type": "execute_result"
    }
   ],
   "source": [
    "df1"
   ]
  },
  {
   "cell_type": "code",
   "execution_count": 22,
   "metadata": {
    "id": "E0eWL6qmzzlu"
   },
   "outputs": [
    {
     "name": "stdout",
     "output_type": "stream",
     "text": [
      "<class 'pandas.core.frame.DataFrame'>\n",
      "RangeIndex: 10119 entries, 0 to 10118\n",
      "Data columns (total 16 columns):\n",
      " #   Column                     Non-Null Count  Dtype\n",
      "---  ------                     --------------  -----\n",
      " 0   HomePlanet_Europa          10119 non-null  int64\n",
      " 1   HomePlanet_Mars            10119 non-null  int64\n",
      " 2   Destination_PSO J318.5-22  10119 non-null  int64\n",
      " 3   Destination_TRAPPIST-1e    10119 non-null  int64\n",
      " 4   CryoSleep_True             10119 non-null  int64\n",
      " 5   VIP_True                   10119 non-null  int64\n",
      " 6   cabin_side_S               10119 non-null  int64\n",
      " 7   Age                        10119 non-null  int64\n",
      " 8   RoomService                10119 non-null  int64\n",
      " 9   FoodCourt                  10119 non-null  int64\n",
      " 10  ShoppingMall               10119 non-null  int64\n",
      " 11  Spa                        10119 non-null  int64\n",
      " 12  VRDeck                     10119 non-null  int64\n",
      " 13  Transported                10119 non-null  int64\n",
      " 14  cabin_deck                 10119 non-null  int64\n",
      " 15  cabin_num                  10119 non-null  int64\n",
      "dtypes: int64(16)\n",
      "memory usage: 1.2 MB\n"
     ]
    }
   ],
   "source": [
    "df1 = df1.astype(int)\n",
    "df1.info()"
   ]
  },
  {
   "cell_type": "code",
   "execution_count": 23,
   "metadata": {
    "id": "pctPeBHhvR_R"
   },
   "outputs": [],
   "source": [
    "from xgboost import XGBClassifier\n",
    "from sklearn.tree import DecisionTreeClassifier\n",
    "from sklearn.ensemble import RandomForestClassifier\n",
    "from sklearn.linear_model import LogisticRegression\n",
    "from lightgbm import LGBMClassifier\n",
    "from sklearn.model_selection import train_test_split\n",
    "from sklearn.metrics import accuracy_score"
   ]
  },
  {
   "cell_type": "code",
   "execution_count": 24,
   "metadata": {
    "id": "U-vD2Cyuvcep"
   },
   "outputs": [],
   "source": [
    "X_train = df1.drop(columns=['Transported'])\n",
    "y_train = df1['Transported']\n",
    "\n",
    "X_test = df1.drop(columns=['Transported'])\n",
    "y_test = df1['Transported']\n",
    "\n",
    "model_1 = LogisticRegression()\n",
    "model_2 = DecisionTreeClassifier()\n",
    "model_3 = RandomForestClassifier()\n",
    "model_4 = XGBClassifier()\n",
    "model_5 = LGBMClassifier()"
   ]
  },
  {
   "cell_type": "code",
   "execution_count": 25,
   "metadata": {
    "id": "mxS181IiAd0e"
   },
   "outputs": [
    {
     "data": {
      "text/plain": [
       "(10119, 15)"
      ]
     },
     "execution_count": 25,
     "metadata": {},
     "output_type": "execute_result"
    }
   ],
   "source": [
    "X_train.shape"
   ]
  },
  {
   "cell_type": "code",
   "execution_count": 26,
   "metadata": {
    "id": "yyolD7c0yshS"
   },
   "outputs": [
    {
     "name": "stdout",
     "output_type": "stream",
     "text": [
      "accuracy score:  0.718055143788912\n"
     ]
    },
    {
     "name": "stderr",
     "output_type": "stream",
     "text": [
      "c:\\Users\\Pushkar Taneja\\AppData\\Local\\Programs\\Python\\Python312\\Lib\\site-packages\\sklearn\\linear_model\\_logistic.py:469: ConvergenceWarning: lbfgs failed to converge (status=1):\n",
      "STOP: TOTAL NO. of ITERATIONS REACHED LIMIT.\n",
      "\n",
      "Increase the number of iterations (max_iter) or scale the data as shown in:\n",
      "    https://scikit-learn.org/stable/modules/preprocessing.html\n",
      "Please also refer to the documentation for alternative solver options:\n",
      "    https://scikit-learn.org/stable/modules/linear_model.html#logistic-regression\n",
      "  n_iter_i = _check_optimize_result(\n"
     ]
    }
   ],
   "source": [
    "model_1.fit(X_train, y_train)\n",
    "y_pred = model_1.predict(X_test)\n",
    "print('accuracy score: ', accuracy_score(y_test, y_pred))"
   ]
  },
  {
   "cell_type": "code",
   "execution_count": 27,
   "metadata": {
    "id": "bbpa39Y4yyca"
   },
   "outputs": [
    {
     "name": "stdout",
     "output_type": "stream",
     "text": [
      "accuracy score:  0.9998023520110683\n"
     ]
    }
   ],
   "source": [
    "model_2.fit(X_train, y_train)\n",
    "y_pred = model_2.predict(X_test)\n",
    "print('accuracy score: ', accuracy_score(y_test, y_pred))"
   ]
  },
  {
   "cell_type": "code",
   "execution_count": 28,
   "metadata": {
    "id": "lFKEq1VP0J-j"
   },
   "outputs": [
    {
     "name": "stdout",
     "output_type": "stream",
     "text": [
      "accuracy score:  0.9998023520110683\n"
     ]
    }
   ],
   "source": [
    "model_3.fit(X_train, y_train)\n",
    "y_pred = model_3.predict(X_test)\n",
    "print('accuracy score: ', accuracy_score(y_test, y_pred))"
   ]
  },
  {
   "cell_type": "code",
   "execution_count": 29,
   "metadata": {
    "id": "2fykjwko0MGn"
   },
   "outputs": [
    {
     "name": "stdout",
     "output_type": "stream",
     "text": [
      "accuracy score:  0.9998023520110683\n"
     ]
    }
   ],
   "source": [
    "model_4.fit(X_train, y_train)\n",
    "y_pred1 = model_4.predict(X_test)\n",
    "print('accuracy score: ', accuracy_score(y_test, y_pred))"
   ]
  },
  {
   "cell_type": "code",
   "execution_count": 30,
   "metadata": {
    "id": "MGjWsJwC0O7r"
   },
   "outputs": [
    {
     "name": "stdout",
     "output_type": "stream",
     "text": [
      "[LightGBM] [Warning] Found whitespace in feature_names, replace with underlines\n",
      "[LightGBM] [Info] Number of positive: 3401, number of negative: 6718\n",
      "[LightGBM] [Info] Auto-choosing row-wise multi-threading, the overhead of testing was 0.000818 seconds.\n",
      "You can set `force_row_wise=true` to remove the overhead.\n",
      "And if memory is not enough, you can set `force_col_wise=true`.\n",
      "[LightGBM] [Info] Total Bins 426\n",
      "[LightGBM] [Info] Number of data points in the train set: 10119, number of used features: 15\n",
      "[LightGBM] [Info] [binary:BoostFromScore]: pavg=0.336100 -> initscore=-0.680721\n",
      "[LightGBM] [Info] Start training from score -0.680721\n",
      "accuracy score:  0.7996837632177093\n"
     ]
    }
   ],
   "source": [
    "model_5.fit(X_train, y_train)\n",
    "y_pred = model_5.predict(X_test)\n",
    "print('accuracy score: ', accuracy_score(y_test, y_pred))"
   ]
  },
  {
   "cell_type": "code",
   "execution_count": 31,
   "metadata": {
    "id": "4Txc01fHDRgv"
   },
   "outputs": [],
   "source": [
    "y_pred1 = y_pred1[:len(df_id)]\n"
   ]
  },
  {
   "cell_type": "code",
   "execution_count": 32,
   "metadata": {
    "id": "J2vwIHJb-Jn2"
   },
   "outputs": [],
   "source": [
    "submission = pd.DataFrame({'PassengerId': df_id.iloc[:len(y_pred1)], 'Transported': y_pred1})\n",
    "submission.to_csv('submission.csv', index=False)\n"
   ]
  }
 ],
 "metadata": {
  "colab": {
   "provenance": []
  },
  "kernelspec": {
   "display_name": "Python 3",
   "name": "python3"
  },
  "language_info": {
   "codemirror_mode": {
    "name": "ipython",
    "version": 3
   },
   "file_extension": ".py",
   "mimetype": "text/x-python",
   "name": "python",
   "nbconvert_exporter": "python",
   "pygments_lexer": "ipython3",
   "version": "3.12.5"
  }
 },
 "nbformat": 4,
 "nbformat_minor": 0
}
